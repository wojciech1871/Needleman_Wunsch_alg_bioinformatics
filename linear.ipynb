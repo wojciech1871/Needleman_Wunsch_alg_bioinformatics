{
 "cells": [
  {
   "cell_type": "code",
   "execution_count": 51,
   "metadata": {},
   "outputs": [],
   "source": [
    "import os\n",
    "import Bio\n",
    "import numpy as np\n",
    "\n",
    "from collections import deque\n",
    "from enum import Enum"
   ]
  },
  {
   "cell_type": "code",
   "execution_count": 57,
   "metadata": {},
   "outputs": [],
   "source": [
    "def score(x, y):\n",
    "    if x == \"-\" or y == \"-\":\n",
    "        return -2\n",
    "    elif x == y:\n",
    "        return 1\n",
    "    elif x !=y:\n",
    "        return -1"
   ]
  },
  {
   "cell_type": "code",
   "execution_count": 58,
   "metadata": {},
   "outputs": [],
   "source": [
    "class NeedlemanWunschAlgorithm:\n",
    "    \n",
    "    class Node:\n",
    "        def __init__(self, firstSeq, secondSeq, i, j):\n",
    "            self.firstSeq = firstSeq\n",
    "            self.secondSeq = secondSeq\n",
    "            self.i = i\n",
    "            self.j = j\n",
    "    \n",
    "    class Arrow(Enum):\n",
    "        LEFT = 1\n",
    "        DIAG = 2\n",
    "        TOP = 3\n",
    "    \n",
    "    ARROW_MASK = (Arrow.LEFT, Arrow.DIAG, Arrow.TOP)\n",
    "    GAP = \"-\"\n",
    "    \n",
    "    def __init__(self, firstSeq, secondSeq, scoreFunction):\n",
    "        self.firstSeq = \"-\" + firstSeq\n",
    "        self.secondSeq = \"-\" + secondSeq\n",
    "        self.lenFirstSeq = len(self.firstSeq)\n",
    "        self.lenSecondSeq = len(self.secondSeq)\n",
    "        \n",
    "        self.scoreMatrix = np.ndarray(shape=(self.lenSecondSeq, self.lenFirstSeq), dtype=np.int)\n",
    "        self.arrowMatrix = np.ndarray(shape=(self.lenSecondSeq, self.lenFirstSeq), dtype=list)\n",
    "        \n",
    "        self.scoreFunction = scoreFunction\n",
    "    \n",
    "    def _fillCell(self, i, j):\n",
    "        left = self.scoreMatrix[i, j - 1] + self.scoreFunction(self.GAP, self.GAP)\n",
    "        diag = self.scoreMatrix[i - 1, j - 1] + self.scoreFunction(self.firstSeq[j], self.secondSeq[i])\n",
    "        top = self.scoreMatrix[i - 1, j] + self.scoreFunction(self.GAP, self.GAP)\n",
    "        \n",
    "        directsArray = np.array([left, diag, top])\n",
    "        maxScore = directsArray.max()\n",
    "        directMask = directsArray == maxScore\n",
    "        \n",
    "        self.scoreMatrix[i, j] = maxScore\n",
    "        self.arrowMatrix[i, j] = [arrow for mask, arrow in zip(directMask, self.ARROW_MASK) if mask == True]\n",
    "    \n",
    "    def _path_create(self, node, arrow):\n",
    "        if arrow == self.Arrow.LEFT:\n",
    "            firstSign = self.firstSeq[node.j]\n",
    "            secondSign = self.GAP\n",
    "            vector = (0, -1)\n",
    "        elif arrow == self.Arrow.DIAG:\n",
    "            firstSign = self.firstSeq[node.j]\n",
    "            secondSign = self.secondSeq[node.i]\n",
    "            vector = (-1, -1)\n",
    "        elif arrow == self.Arrow.TOP:\n",
    "            firstSign = self.GAP\n",
    "            secondSign = self.secondSeq[node.i]\n",
    "            vector = (-1, 0)\n",
    "        nextNode = self.Node(firstSign + node.firstSeq, secondSign + node.secondSeq, node.i + vector[0], node.j + vector[1])\n",
    "        return nextNode\n",
    "        \n",
    "    def calculate_score(self):\n",
    "        self.scoreMatrix[0, 0] = 0\n",
    "        for i in range(1, self.lenSecondSeq):\n",
    "            self.scoreMatrix[i, 0] = i * self.scoreFunction(self.GAP, self.GAP)\n",
    "        for j in range(1, self.lenFirstSeq):\n",
    "            self.scoreMatrix[0, j] = j * self.scoreFunction(self.GAP, self.GAP)\n",
    "        for i in range(1, self.lenSecondSeq):\n",
    "            for j in range(1, self.lenFirstSeq):\n",
    "                self._fillCell(i, j)\n",
    "        return self.scoreMatrix[self.lenSecondSeq - 1, self.lenFirstSeq - 1]\n",
    "    \n",
    "    def best_alignments_(self):\n",
    "        stack = deque()\n",
    "        stack.append(self.Node(\"\", \"\", self.lenSecondSeq - 1, self.lenFirstSeq - 1))\n",
    "        while stack:\n",
    "            actNode = stack.pop()\n",
    "            if self.arrowMatrix[actNode.i, actNode.j]:\n",
    "                for arrow in self.arrowMatrix[actNode.i, actNode.j]:\n",
    "                    stack.append(self._path_create(actNode, arrow))\n",
    "            if actNode.i == 0 and actNode.j == 0:\n",
    "                print(actNode.firstSeq)\n",
    "                print(actNode.secondSeq)\n",
    "                "
   ]
  },
  {
   "cell_type": "code",
   "execution_count": 54,
   "metadata": {},
   "outputs": [],
   "source": [
    "a = NeedlemanWunschAlgorithm(\"GCATGCU\", \"GATTACA\", score)"
   ]
  },
  {
   "cell_type": "code",
   "execution_count": 55,
   "metadata": {},
   "outputs": [
    {
     "data": {
      "text/plain": [
       "0"
      ]
     },
     "execution_count": 55,
     "metadata": {},
     "output_type": "execute_result"
    }
   ],
   "source": [
    "a.calculate_score()"
   ]
  },
  {
   "cell_type": "code",
   "execution_count": 56,
   "metadata": {},
   "outputs": [
    {
     "name": "stdout",
     "output_type": "stream",
     "text": [
      "GCATG-CU\n",
      "G-ATTACA\n",
      "GCAT-GCU\n",
      "G-ATTACA\n",
      "GCA-TGCU\n",
      "G-ATTACA\n"
     ]
    }
   ],
   "source": [
    "a.best_alignments_()"
   ]
  },
  {
   "cell_type": "code",
   "execution_count": 62,
   "metadata": {},
   "outputs": [],
   "source": [
    "b = NeedlemanWunschAlgorithm(\"GAACAACC\", \"CAAGACAAGC\", score)"
   ]
  },
  {
   "cell_type": "code",
   "execution_count": 63,
   "metadata": {},
   "outputs": [
    {
     "data": {
      "text/plain": [
       "0"
      ]
     },
     "execution_count": 63,
     "metadata": {},
     "output_type": "execute_result"
    }
   ],
   "source": [
    "b.calculate_score()"
   ]
  },
  {
   "cell_type": "code",
   "execution_count": 64,
   "metadata": {},
   "outputs": [
    {
     "name": "stdout",
     "output_type": "stream",
     "text": [
      "GAA--CAACC\n",
      "CAAGACAAGC\n",
      "GA--ACAACC\n",
      "CAAGACAAGC\n",
      "G-A-ACAACC\n",
      "CAAGACAAGC\n"
     ]
    }
   ],
   "source": [
    "b.best_alignments_()"
   ]
  }
 ],
 "metadata": {
  "kernelspec": {
   "display_name": "Biopython",
   "language": "python",
   "name": "biopython"
  },
  "language_info": {
   "codemirror_mode": {
    "name": "ipython",
    "version": 3
   },
   "file_extension": ".py",
   "mimetype": "text/x-python",
   "name": "python",
   "nbconvert_exporter": "python",
   "pygments_lexer": "ipython3",
   "version": "3.7.3"
  }
 },
 "nbformat": 4,
 "nbformat_minor": 4
}
