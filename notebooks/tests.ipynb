{
 "cells": [
  {
   "cell_type": "code",
   "execution_count": 1,
   "metadata": {},
   "outputs": [],
   "source": [
    "import sys\n",
    "sys.path.insert(1, \"../\")"
   ]
  },
  {
   "cell_type": "code",
   "execution_count": 2,
   "metadata": {},
   "outputs": [],
   "source": [
    "from src.algorithms import NeedlemanWunschAlgorithm, WatermanSmithAlgorithm"
   ]
  },
  {
   "cell_type": "code",
   "execution_count": 3,
   "metadata": {},
   "outputs": [],
   "source": [
    "def score(x, y):\n",
    "    if x == \"-\" or y == \"-\":\n",
    "        return -2\n",
    "    elif x == y:\n",
    "        return 1\n",
    "    elif x != y:\n",
    "        return -1"
   ]
  },
  {
   "cell_type": "code",
   "execution_count": 4,
   "metadata": {},
   "outputs": [],
   "source": [
    "def score2(x, y):\n",
    "    if x == \"-\" or y == \"-\":\n",
    "        return -1\n",
    "    elif x == y:\n",
    "        return 2\n",
    "    elif x != y:\n",
    "        return -1"
   ]
  },
  {
   "cell_type": "markdown",
   "metadata": {},
   "source": [
    "## Simple tests only for checking that works"
   ]
  },
  {
   "cell_type": "markdown",
   "metadata": {},
   "source": [
    "### Needleman-Wunsch"
   ]
  },
  {
   "cell_type": "code",
   "execution_count": 5,
   "metadata": {},
   "outputs": [],
   "source": [
    "a = NeedlemanWunschAlgorithm(\"GCATGCU\", \"GATTACA\", score)"
   ]
  },
  {
   "cell_type": "code",
   "execution_count": 6,
   "metadata": {},
   "outputs": [
    {
     "data": {
      "text/plain": [
       "1"
      ]
     },
     "execution_count": 6,
     "metadata": {},
     "output_type": "execute_result"
    }
   ],
   "source": [
    "a.calculate_score()"
   ]
  },
  {
   "cell_type": "code",
   "execution_count": 7,
   "metadata": {},
   "outputs": [
    {
     "data": {
      "text/plain": [
       "array([[  0,  -2,  -4,  -6,  -8, -10, -12, -14],\n",
       "       [ -2,   1,  -1,  -3,  -5,  -7,  -9, -11],\n",
       "       [ -4,  -1,   0,   0,  -2,  -4,  -6,  -8],\n",
       "       [ -6,  -3,  -2,  -1,   1,  -1,  -3,  -5],\n",
       "       [ -8,  -5,  -4,  -3,   0,   0,  -2,  -4],\n",
       "       [-10,  -7,  -6,  -3,  -2,  -1,  -1,  -3],\n",
       "       [-12,  -9,  -6,  -5,  -4,  -3,   0,  -2],\n",
       "       [-14, -11,  -8,  -5,  -6,  -5,  -2,  -1]])"
      ]
     },
     "execution_count": 7,
     "metadata": {},
     "output_type": "execute_result"
    }
   ],
   "source": [
    "a.scoreMatrix"
   ]
  },
  {
   "cell_type": "code",
   "execution_count": 8,
   "metadata": {},
   "outputs": [
    {
     "name": "stdout",
     "output_type": "stream",
     "text": [
      "GCATGCU\n",
      "GATTACA\n"
     ]
    }
   ],
   "source": [
    "a.best_alignments_()"
   ]
  },
  {
   "cell_type": "code",
   "execution_count": 9,
   "metadata": {},
   "outputs": [],
   "source": [
    "b = NeedlemanWunschAlgorithm(\"GAACAACC\", \"CAAGACAAGC\", score)"
   ]
  },
  {
   "cell_type": "code",
   "execution_count": 10,
   "metadata": {},
   "outputs": [
    {
     "data": {
      "text/plain": [
       "1"
      ]
     },
     "execution_count": 10,
     "metadata": {},
     "output_type": "execute_result"
    }
   ],
   "source": [
    "b.calculate_score()"
   ]
  },
  {
   "cell_type": "code",
   "execution_count": 11,
   "metadata": {},
   "outputs": [
    {
     "name": "stdout",
     "output_type": "stream",
     "text": [
      "GAA--CAACC\n",
      "CAAGACAAGC\n",
      "GA--ACAACC\n",
      "CAAGACAAGC\n",
      "G-A-ACAACC\n",
      "CAAGACAAGC\n"
     ]
    }
   ],
   "source": [
    "b.best_alignments_()"
   ]
  },
  {
   "cell_type": "markdown",
   "metadata": {},
   "source": [
    "### Waterman-Smith"
   ]
  },
  {
   "cell_type": "code",
   "execution_count": 12,
   "metadata": {},
   "outputs": [],
   "source": [
    "c = WatermanSmithAlgorithm(\"GTTAC\", \"GTTGAC\", score)"
   ]
  },
  {
   "cell_type": "code",
   "execution_count": 13,
   "metadata": {},
   "outputs": [
    {
     "data": {
      "text/plain": [
       "3"
      ]
     },
     "execution_count": 13,
     "metadata": {},
     "output_type": "execute_result"
    }
   ],
   "source": [
    "c.calculate_score()"
   ]
  },
  {
   "cell_type": "code",
   "execution_count": 14,
   "metadata": {},
   "outputs": [
    {
     "name": "stdout",
     "output_type": "stream",
     "text": [
      "GTT-AC\n",
      "GTTGAC\n",
      "GTT\n",
      "GTT\n"
     ]
    }
   ],
   "source": [
    "c.best_alignments_()"
   ]
  },
  {
   "cell_type": "code",
   "execution_count": 15,
   "metadata": {},
   "outputs": [
    {
     "data": {
      "text/plain": [
       "array([[0, 0, 0, 0, 0, 0],\n",
       "       [0, 1, 0, 0, 0, 0],\n",
       "       [0, 0, 2, 1, 0, 0],\n",
       "       [0, 0, 1, 3, 1, 0],\n",
       "       [0, 1, 0, 1, 2, 0],\n",
       "       [0, 0, 0, 0, 2, 1],\n",
       "       [0, 0, 0, 0, 0, 3]])"
      ]
     },
     "execution_count": 15,
     "metadata": {},
     "output_type": "execute_result"
    }
   ],
   "source": [
    "c.scoreMatrix"
   ]
  },
  {
   "cell_type": "code",
   "execution_count": null,
   "metadata": {},
   "outputs": [],
   "source": []
  }
 ],
 "metadata": {
  "kernelspec": {
   "display_name": "Biopython",
   "language": "python",
   "name": "biopython"
  },
  "language_info": {
   "codemirror_mode": {
    "name": "ipython",
    "version": 3
   },
   "file_extension": ".py",
   "mimetype": "text/x-python",
   "name": "python",
   "nbconvert_exporter": "python",
   "pygments_lexer": "ipython3",
   "version": "3.7.3"
  }
 },
 "nbformat": 4,
 "nbformat_minor": 4
}
